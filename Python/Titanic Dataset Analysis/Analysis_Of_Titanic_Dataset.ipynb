{
 "cells": [
  {
   "attachments": {},
   "cell_type": "markdown",
   "metadata": {},
   "source": [
    "### Import Modules"
   ]
  },
  {
   "cell_type": "code",
   "execution_count": null,
   "metadata": {},
   "outputs": [],
   "source": [
    "# import modules needed\n",
    "import pandas as pd\n",
    "import numpy as np\n",
    "import matplotlib.pyplot as plt\n",
    "import seaborn as sns"
   ]
  },
  {
   "attachments": {},
   "cell_type": "markdown",
   "metadata": {},
   "source": [
    "### Import Dataset"
   ]
  },
  {
   "cell_type": "code",
   "execution_count": null,
   "metadata": {},
   "outputs": [],
   "source": [
    "# Load project dataset and store in a variable\n",
    "titanic_df = pd.read_csv (\"./train.csv\", delimiter=\",\")"
   ]
  },
  {
   "attachments": {},
   "cell_type": "markdown",
   "metadata": {},
   "source": [
    "##### Column Descriptions"
   ]
  },
  {
   "attachments": {},
   "cell_type": "markdown",
   "metadata": {},
   "source": [
    "Survived: Survived (0 = No; 1 = Yes) <br>\n",
    "Pclass: Passenger Class (1 = 1st; 2 = 2nd; 3 = 3rd) <br>\n",
    "Name: Passenger Name <br>\n",
    "Sex: Passenger Sex <br>\n",
    "Age: Passenger Age <br>\n",
    "SibSp: Number of Siblings/Spouses Aboard <br>\n",
    "Parch: Number of Parents/Children Aboard <br>\n",
    "Fare: Passenger Fare <br>\n",
    "Cabin: Cabin <br>\n",
    "Embarked: Port of Embarkation (C = Cherbourg; Q = Queenstown; S = Southampton)"
   ]
  },
  {
   "attachments": {},
   "cell_type": "markdown",
   "metadata": {},
   "source": [
    "### Explore Data"
   ]
  },
  {
   "cell_type": "code",
   "execution_count": null,
   "metadata": {},
   "outputs": [],
   "source": [
    "titanic_df"
   ]
  },
  {
   "cell_type": "code",
   "execution_count": null,
   "metadata": {},
   "outputs": [],
   "source": [
    "print(\"Dataset set contains {} rows and {} columns\".format(titanic_df.shape[0],titanic_df.shape[1]))"
   ]
  },
  {
   "cell_type": "code",
   "execution_count": null,
   "metadata": {},
   "outputs": [],
   "source": [
    "titanic_df[titanic_df.duplicated()] #check for duplicate rows returns no duplicate rows in the dataset"
   ]
  },
  {
   "cell_type": "code",
   "execution_count": null,
   "metadata": {},
   "outputs": [],
   "source": [
    "titanic_df.info()   #returns infomation of columns such as; data type, sum of non-null rows per column and column headers"
   ]
  },
  {
   "cell_type": "code",
   "execution_count": null,
   "metadata": {},
   "outputs": [],
   "source": [
    "titanic_df.describe()   # returns descriptive statistics for columns with numerical values"
   ]
  },
  {
   "cell_type": "markdown",
   "metadata": {},
   "source": [
    " Relationship Between Columns"
   ]
  },
  {
   "cell_type": "code",
   "execution_count": null,
   "metadata": {},
   "outputs": [],
   "source": [
    "titanic_df.iloc[:,[1,2,3,6,7,8,10]].corr()"
   ]
  },
  {
   "cell_type": "code",
   "execution_count": null,
   "metadata": {},
   "outputs": [],
   "source": [
    "sns.heatmap(titanic_df.iloc[:,[1,2,3,6,7,8,10]].corr(), cmap=\"YlGnBu\", annot=True)"
   ]
  },
  {
   "attachments": {},
   "cell_type": "markdown",
   "metadata": {},
   "source": [
    "### Data Cleaning"
   ]
  },
  {
   "cell_type": "code",
   "execution_count": null,
   "metadata": {},
   "outputs": [],
   "source": [
    "titanic_df.isnull().sum() # some columns are noticed to have null values\n",
    "                            # Some will be dropped, and in some rows will be replaced by the average values their column\n",
    "                            # Columns not needed will also be dropped"
   ]
  },
  {
   "attachments": {},
   "cell_type": "markdown",
   "metadata": {},
   "source": [
    "Drop unnamed column"
   ]
  },
  {
   "cell_type": "code",
   "execution_count": null,
   "metadata": {},
   "outputs": [],
   "source": [
    "titanic_df.drop('Unnamed: 0', inplace=True, axis=1)"
   ]
  },
  {
   "attachments": {},
   "cell_type": "markdown",
   "metadata": {},
   "source": [
    "Drop cabin column"
   ]
  },
  {
   "cell_type": "code",
   "execution_count": null,
   "metadata": {},
   "outputs": [],
   "source": [
    "titanic_df.drop('Cabin', inplace=True, axis=1)"
   ]
  },
  {
   "attachments": {},
   "cell_type": "markdown",
   "metadata": {},
   "source": [
    "Replace the null age rows with the mean age"
   ]
  },
  {
   "cell_type": "code",
   "execution_count": null,
   "metadata": {},
   "outputs": [],
   "source": [
    "# calculate the mean age\n",
    "avg_age= np.round(titanic_df.Age.mean(),2)\n",
    "print(avg_age)\n",
    "\n",
    "# Fill the missing age values with the average age value calculated\n",
    "titanic_df.Age.fillna(avg_age, inplace=True)"
   ]
  },
  {
   "attachments": {},
   "cell_type": "markdown",
   "metadata": {},
   "source": [
    "Drop null rows under Embarked column"
   ]
  },
  {
   "cell_type": "code",
   "execution_count": null,
   "metadata": {},
   "outputs": [],
   "source": [
    "titanic_df.dropna(inplace=True)"
   ]
  },
  {
   "attachments": {},
   "cell_type": "markdown",
   "metadata": {},
   "source": [
    "Rename 'Survived' column to 'Surival Status"
   ]
  },
  {
   "cell_type": "code",
   "execution_count": null,
   "metadata": {},
   "outputs": [],
   "source": [
    "titanic_df.rename(columns={\"Survived\": \"Survival\"}, inplace= \"True\")"
   ]
  },
  {
   "cell_type": "code",
   "execution_count": null,
   "metadata": {},
   "outputs": [],
   "source": [
    "titanic_df.isnull().sum()   #check to see is there are any null values left returns none"
   ]
  },
  {
   "attachments": {},
   "cell_type": "markdown",
   "metadata": {},
   "source": [
    "### Check Correlation of Continuous Data"
   ]
  },
  {
   "cell_type": "code",
   "execution_count": null,
   "metadata": {},
   "outputs": [],
   "source": [
    "titanic_df.iloc[:,[0,1,2,5,6,7,9]].corr()"
   ]
  },
  {
   "cell_type": "code",
   "execution_count": null,
   "metadata": {},
   "outputs": [],
   "source": [
    "sns.heatmap(titanic_df.iloc[:,[0,1,2,5,6,7,9]].corr(), cmap=\"YlGnBu\", annot=True)"
   ]
  },
  {
   "attachments": {},
   "cell_type": "markdown",
   "metadata": {},
   "source": [
    "### Data Visualization"
   ]
  },
  {
   "cell_type": "code",
   "execution_count": null,
   "metadata": {},
   "outputs": [],
   "source": [
    "#survive_barchart = titanic_df.groupby([\"Survival Status\"])[\"PassengerId\"].count().plot(kind=\"bar\")"
   ]
  },
  {
   "cell_type": "code",
   "execution_count": null,
   "metadata": {},
   "outputs": [],
   "source": [
    "copy = titanic_df.groupby([\"Survival\"], as_index= False)[\"PassengerId\"].count().sort_values(by=\"Survival\", ascending=False)\n",
    "ax = sns.barplot(x=\"Survival\", y= \"PassengerId\", data= copy)\n",
    "ax.bar_label(ax.containers[0], fmt = '%.1f')\n",
    "plt.title(\"Bar Chart of Survivors Against Non-survivors\")\n",
    "\n",
    "copy"
   ]
  },
  {
   "attachments": {},
   "cell_type": "markdown",
   "metadata": {},
   "source": [
    "Group by different passenger classes"
   ]
  },
  {
   "cell_type": "code",
   "execution_count": null,
   "metadata": {},
   "outputs": [],
   "source": [
    "psg_class = titanic_df.groupby(\"Pclass\")[\"Pclass\"].count()\n",
    "psg_class"
   ]
  },
  {
   "attachments": {},
   "cell_type": "markdown",
   "metadata": {},
   "source": [
    "Plot a pie chart showing different passenger classes"
   ]
  },
  {
   "cell_type": "code",
   "execution_count": null,
   "metadata": {},
   "outputs": [],
   "source": [
    "plt.figure(figsize=(7,7))\n",
    "plt.title(\"Paasengers by Class\")\n",
    "plt.pie(psg_class.values, labels=[\"Class 1\", \"Class 2\", \"Class 3\"],\n",
    "        autopct='%1.1f%%', textprops={'fontsize':13})\n",
    "plt.show()"
   ]
  },
  {
   "attachments": {},
   "cell_type": "markdown",
   "metadata": {},
   "source": [
    "Group by the sex of passengers"
   ]
  },
  {
   "cell_type": "code",
   "execution_count": null,
   "metadata": {},
   "outputs": [],
   "source": [
    "psg_sex = titanic_df.groupby(\"Sex\")[\"Sex\"].count()\n",
    "psg_sex"
   ]
  },
  {
   "attachments": {},
   "cell_type": "markdown",
   "metadata": {},
   "source": [
    "Plot pie chart showing different passenger genders"
   ]
  },
  {
   "cell_type": "code",
   "execution_count": null,
   "metadata": {},
   "outputs": [],
   "source": [
    "plt.figure(figsize=(7,7))\n",
    "plt.title('Passengers by Gender')\n",
    "plt.pie(psg_sex.values, labels=[\"Male\", \"Female\"],\n",
    "        autopct='%1.1f%%', textprops={'fontsize':13})\n",
    "plt.show()"
   ]
  },
  {
   "attachments": {},
   "cell_type": "markdown",
   "metadata": {},
   "source": [
    "Group by port of embarkation"
   ]
  },
  {
   "cell_type": "code",
   "execution_count": null,
   "metadata": {},
   "outputs": [],
   "source": [
    "psg_embark = titanic_df.groupby(\"Embarked\")[\"Embarked\"].count()\n",
    "psg_embark"
   ]
  },
  {
   "attachments": {},
   "cell_type": "markdown",
   "metadata": {},
   "source": [
    "Plot pie chart showing different passengers' port of embarkation"
   ]
  },
  {
   "cell_type": "code",
   "execution_count": null,
   "metadata": {},
   "outputs": [],
   "source": [
    "plt.figure(figsize=(7,7))\n",
    "plt.title('Passengers by Port of Embarkation')\n",
    "plt.pie(psg_embark.values, labels=[\"Cherbourg\", \"Queenstown\", \"Southampton\"],\n",
    "        autopct='%1.1f%%', textprops={'fontsize':13})\n",
    "plt.show()"
   ]
  },
  {
   "attachments": {},
   "cell_type": "markdown",
   "metadata": {},
   "source": [
    "Check effect of sex on survival"
   ]
  },
  {
   "cell_type": "code",
   "execution_count": null,
   "metadata": {},
   "outputs": [],
   "source": [
    "survival_sex = titanic_df.groupby('Sex')['Survival'].sum()\n",
    "survival_sex    #returns number of survivors according to sex "
   ]
  },
  {
   "attachments": {},
   "cell_type": "markdown",
   "metadata": {},
   "source": [
    "Plot bar chart showing survivors by sex"
   ]
  },
  {
   "cell_type": "code",
   "execution_count": null,
   "metadata": {},
   "outputs": [],
   "source": [
    "plt.figure(figsize=(7,9))\n",
    "\n",
    "plt.bar(survival_sex.index, survival_sex.values)\n",
    "\n",
    "plt.title('Survivors by Sex')\n",
    "\n",
    "for i, value in enumerate(survival_sex.values):\n",
    "    plt.text(i, value-20, str(value), fontsize=12, color='white',\n",
    "             horizontalalignment='center', verticalalignment='center')\n",
    "    \n",
    "plt.show()"
   ]
  },
  {
   "attachments": {},
   "cell_type": "markdown",
   "metadata": {},
   "source": [
    "Check effect of passenger class on survival"
   ]
  },
  {
   "cell_type": "code",
   "execution_count": null,
   "metadata": {},
   "outputs": [],
   "source": [
    "psg_survival = titanic_df.groupby('Pclass')['Survival'].sum()\n",
    "psg_survival"
   ]
  },
  {
   "cell_type": "code",
   "execution_count": null,
   "metadata": {},
   "outputs": [],
   "source": [
    "percent_psg_survival = titanic_df.groupby(['Pclass'])['Survival'].sum()/titanic_df.groupby(['Pclass'])['Survival'].count()*100\n",
    "percent_psg_survival"
   ]
  },
  {
   "cell_type": "code",
   "execution_count": null,
   "metadata": {},
   "outputs": [],
   "source": [
    "percent_psg_survival.index = [\"Class 1\",\"Class 2\",\"Class 3\"]"
   ]
  },
  {
   "cell_type": "code",
   "execution_count": null,
   "metadata": {},
   "outputs": [],
   "source": [
    "plt.figure(figsize=(7,9))\n",
    "\n",
    "plt.bar(percent_psg_survival.index, percent_psg_survival.values)\n",
    "\n",
    "plt.title('Percentage of Survivors by Passenger Class')\n",
    "\n",
    "for i, value in enumerate(np.round(percent_psg_survival.values,2)):\n",
    "    plt.text(i, value+1, str(value), fontsize=12, color='black',\n",
    "             horizontalalignment='left', verticalalignment='baseline')\n",
    "    \n",
    "plt.show()"
   ]
  },
  {
   "cell_type": "code",
   "execution_count": null,
   "metadata": {},
   "outputs": [],
   "source": [
    "#tips = sns.load_dataset(\"tips\")\n",
    "#sns.catplot(x=\"day\", y=\"total_bill\", data=tips)\n",
    "\n",
    "sns.catplot(x=\"Survival\", hue=\"Sex\", col=\"Pclass\", kind=\"count\", data=titanic_df )\n",
    "plt.title('Class wise segregation of passengers based on sex and survival status', fontsize=16, y= 1.1, loc=\"left\")\n",
    "\n",
    "for i, value in enumerate(survival_sex.values):\n",
    "    plt.text(i, value+1, str(value), fontsize=12, color='black',\n",
    "             horizontalalignment='center', verticalalignment='center')\n",
    "    \n",
    "plt.show()"
   ]
  },
  {
   "attachments": {},
   "cell_type": "markdown",
   "metadata": {},
   "source": [
    "### Insights"
   ]
  },
  {
   "attachments": {},
   "cell_type": "markdown",
   "metadata": {},
   "source": [
    "The dataset analyzed was only a sample of the total population of passengers aboard The Titanic. <br>\n",
    "Factors that showed to influence the survival chances are sex and class of the passenger. <br>\n",
    "Female passengers had higher of survival than their male counterparts. <br>\n",
    "First class passengers had the highest chances of survival of all three classes of passengers. <br>\n",
    "Though the third class passengers recorded more survivors than the second class passengers, percentage of survivors was greater in second class at 42.28% against third class which was at 24.24%.<br>\n",
    "This can be attributed to the high number of passengers in the third class at 491, and second class passengers at 184."
   ]
  },
  {
   "cell_type": "markdown",
   "metadata": {},
   "source": []
  }
 ],
 "metadata": {
  "kernelspec": {
   "display_name": "myEnv",
   "language": "python",
   "name": "python3"
  },
  "language_info": {
   "codemirror_mode": {
    "name": "ipython",
    "version": 3
   },
   "file_extension": ".py",
   "mimetype": "text/x-python",
   "name": "python",
   "nbconvert_exporter": "python",
   "pygments_lexer": "ipython3",
   "version": "3.9.13"
  },
  "orig_nbformat": 4
 },
 "nbformat": 4,
 "nbformat_minor": 2
}
